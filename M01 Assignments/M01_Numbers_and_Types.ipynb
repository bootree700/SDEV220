{
 "cells": [
  {
   "cell_type": "markdown",
   "id": "532e66b8",
   "metadata": {},
   "source": [
    "3.1: There are 3600 seconds in an hour. "
   ]
  },
  {
   "cell_type": "code",
   "execution_count": 2,
   "id": "7d5bb228",
   "metadata": {},
   "outputs": [
    {
     "name": "stdout",
     "output_type": "stream",
     "text": [
      "3600\n"
     ]
    }
   ],
   "source": [
    "a = 60*60\n",
    "print(a)"
   ]
  },
  {
   "cell_type": "code",
   "execution_count": 5,
   "id": "b4a0ef6c",
   "metadata": {},
   "outputs": [
    {
     "name": "stdout",
     "output_type": "stream",
     "text": [
      "There are 86400 seconds per day\n"
     ]
    }
   ],
   "source": [
    "#3.2\n",
    "seconds_per_hour = 3600\n",
    "\n",
    "#3.3\n",
    "a = seconds_per_hour * 24\n",
    "print(\"There are\", a, \"seconds per day\")"
   ]
  },
  {
   "cell_type": "code",
   "execution_count": 8,
   "id": "20df0981",
   "metadata": {},
   "outputs": [
    {
     "name": "stdout",
     "output_type": "stream",
     "text": [
      "24.0\n",
      "24\n"
     ]
    }
   ],
   "source": [
    "#3.4\n",
    "seconds_per_hour = 3600\n",
    "seconds_per_day = 86400\n",
    "\n",
    "#3.5\n",
    "a = seconds_per_day / seconds_per_hour\n",
    "print(a)\n",
    "\n",
    "#3.6\n",
    "a = seconds_per_day // seconds_per_hour\n",
    "print(a)"
   ]
  },
  {
   "cell_type": "markdown",
   "id": "cd1147e7",
   "metadata": {},
   "source": [
    "3.6 cont.\n",
    "Yes, both numbers are the same"
   ]
  },
  {
   "cell_type": "code",
   "execution_count": null,
   "id": "0e98ce05",
   "metadata": {},
   "outputs": [],
   "source": []
  }
 ],
 "metadata": {
  "kernelspec": {
   "display_name": "Python 3 (ipykernel)",
   "language": "python",
   "name": "python3"
  },
  "language_info": {
   "codemirror_mode": {
    "name": "ipython",
    "version": 3
   },
   "file_extension": ".py",
   "mimetype": "text/x-python",
   "name": "python",
   "nbconvert_exporter": "python",
   "pygments_lexer": "ipython3",
   "version": "3.11.4"
  }
 },
 "nbformat": 4,
 "nbformat_minor": 5
}
