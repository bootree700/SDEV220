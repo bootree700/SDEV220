{
 "cells": [
  {
   "cell_type": "code",
   "execution_count": 11,
   "metadata": {},
   "outputs": [],
   "source": [
    "#13.1\n",
    "from datetime import date\n",
    "\n",
    "current_date = date.today()\n",
    "\n",
    "date_string = current_date.strftime(\"%Y-%m-%d\")\n",
    "\n",
    "with open(\"today.txt\", \"w\") as file:\n",
    "    file.write(date_string)\n"
   ]
  },
  {
   "cell_type": "code",
   "execution_count": 2,
   "metadata": {},
   "outputs": [
    {
     "name": "stdout",
     "output_type": "stream",
     "text": [
      "2023-10-12\n"
     ]
    }
   ],
   "source": [
    "#13.2\n",
    "today_string = \"\"\n",
    "with open(\"today.txt\", \"r\") as file:\n",
    "    today_string = file.read()\n",
    "\n",
    "print(today_string)"
   ]
  },
  {
   "cell_type": "code",
   "execution_count": 3,
   "metadata": {},
   "outputs": [
    {
     "name": "stdout",
     "output_type": "stream",
     "text": [
      "2023-10-12 00:00:00\n"
     ]
    }
   ],
   "source": [
    "#13.3\n",
    "from datetime import datetime\n",
    "\n",
    "date_format = \"%Y-%m-%d\"\n",
    "parsed_date = datetime.strptime(today_string, date_format)\n",
    "\n",
    "print(parsed_date)\n"
   ]
  },
  {
   "cell_type": "code",
   "execution_count": 10,
   "metadata": {},
   "outputs": [
    {
     "name": "stdout",
     "output_type": "stream",
     "text": [
      "Today's date and time is 2023-10-12 01:32:12.791324\n",
      "Today's date and time is 2023-10-12 01:32:13.432352\n",
      "Today's date and time is 2023-10-12 01:32:14.103604\n"
     ]
    }
   ],
   "source": [
    "#15.1\n",
    "import multiprocessing\n",
    "from datetime import datetime\n",
    "import time\n",
    "import random\n",
    "\n",
    "def ptime():\n",
    "   cur = datetime.now()\n",
    "   print(\"Today's date and time is {}\".format(cur))\n",
    "   time.sleep(random.random())\n",
    "\n",
    "if __name__ == '__main__':\n",
    "   proc1 = multiprocessing.Process(target=ptime())\n",
    "   proc2 = multiprocessing.Process(target=ptime())\n",
    "   proc3 = multiprocessing.Process(target=ptime())\n",
    "\n",
    "   proc1.start()\n",
    "   proc2.start()\n",
    "   proc3.start()\n",
    "\n",
    "   proc1.join()\n",
    "   proc2.join()\n",
    "   proc3.join()"
   ]
  }
 ],
 "metadata": {
  "kernelspec": {
   "display_name": "Python 3",
   "language": "python",
   "name": "python3"
  },
  "language_info": {
   "codemirror_mode": {
    "name": "ipython",
    "version": 3
   },
   "file_extension": ".py",
   "mimetype": "text/x-python",
   "name": "python",
   "nbconvert_exporter": "python",
   "pygments_lexer": "ipython3",
   "version": "3.11.5"
  }
 },
 "nbformat": 4,
 "nbformat_minor": 2
}
